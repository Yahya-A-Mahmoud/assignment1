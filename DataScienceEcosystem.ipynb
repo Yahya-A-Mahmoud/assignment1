{
 "cells": [
  {
   "cell_type": "markdown",
   "id": "a87186be",
   "metadata": {},
   "source": [
    "# Data Science Tools and Ecosystem"
   ]
  },
  {
   "cell_type": "markdown",
   "id": "a9da5664",
   "metadata": {},
   "source": [
    "### In this notebook, Data Science Tools and Ecosystem are summarized."
   ]
  },
  {
   "cell_type": "markdown",
   "id": "936f5911",
   "metadata": {},
   "source": [
    "**Objectives:**\n",
    "+ List popular languages for Data Science\n",
    "+ List popular libraries for Data Science\n",
    "+ Data Science tools\n",
    "+ Convert 200 minutes to hours"
   ]
  },
  {
   "cell_type": "markdown",
   "id": "e29d82c5",
   "metadata": {},
   "source": [
    "1. Python\n",
    "2. R\n",
    "3. Julia\n",
    "4. Scala\n",
    "5. SQL\n",
    "6. MATLAB"
   ]
  },
  {
   "cell_type": "markdown",
   "id": "5a054132",
   "metadata": {},
   "source": [
    "1. NumPy: A library for numerical computing in Python.\n",
    "2. Pandas: A library for data manipulation and analysis.\n",
    "3. Matplotlib: A library for creating visualizations in Python.\n",
    "4. Scikit-learn: A library for machine learning algorithms and tools.\n",
    "5. TensorFlow: A library for building and training machine learning models.\n",
    "6. Keras: A high-level API for building and training deep learning models.\n",
    "7. PyTorch: A library for building and training machine learning models, particularly for deep learning.\n",
    "8. Seaborn: A library for creating statistical visualizations in Python."
   ]
  },
  {
   "cell_type": "markdown",
   "id": "7e757444",
   "metadata": {},
   "source": [
    "| Data Science Tools |\n",
    "|--------------------|\n",
    "| Jupyter Notebook |\n",
    "| PyCharm |\n",
    "| VS Code |"
   ]
  },
  {
   "cell_type": "markdown",
   "id": "07ff1e47",
   "metadata": {},
   "source": [
    "### Below are a few examples of evaluating arithmetic expressions in Python"
   ]
  },
  {
   "cell_type": "code",
   "execution_count": 6,
   "id": "cd166ef1",
   "metadata": {},
   "outputs": [
    {
     "data": {
      "text/plain": [
       "17"
      ]
     },
     "execution_count": 6,
     "metadata": {},
     "output_type": "execute_result"
    }
   ],
   "source": [
    "# This a simple arithmetic expression to mutiply then add integers\n",
    "(3*4)+5"
   ]
  },
  {
   "cell_type": "code",
   "execution_count": 7,
   "id": "eab5b406",
   "metadata": {},
   "outputs": [
    {
     "data": {
      "text/plain": [
       "3.3333333333333335"
      ]
     },
     "execution_count": 7,
     "metadata": {},
     "output_type": "execute_result"
    }
   ],
   "source": [
    "# This will convert 200 minutes to hours by diving by 60\n",
    "200/60"
   ]
  },
  {
   "cell_type": "markdown",
   "id": "d062bc2c",
   "metadata": {},
   "source": [
    "## Author\n",
    "Yahya"
   ]
  },
  {
   "cell_type": "code",
   "execution_count": null,
   "id": "c8f02f37",
   "metadata": {},
   "outputs": [],
   "source": []
  }
 ],
 "metadata": {
  "kernelspec": {
   "display_name": "Python 3 (ipykernel)",
   "language": "python",
   "name": "python3"
  },
  "language_info": {
   "codemirror_mode": {
    "name": "ipython",
    "version": 3
   },
   "file_extension": ".py",
   "mimetype": "text/x-python",
   "name": "python",
   "nbconvert_exporter": "python",
   "pygments_lexer": "ipython3",
   "version": "3.9.13"
  }
 },
 "nbformat": 4,
 "nbformat_minor": 5
}
